{
 "cells": [
  {
   "cell_type": "markdown",
   "metadata": {
    "slideshow": {
     "slide_type": "slide"
    }
   },
   "source": [
    "# Operators"
   ]
  },
  {
   "cell_type": "markdown",
   "metadata": {
    "slideshow": {
     "slide_type": "slide"
    }
   },
   "source": [
    "## Unary operators\n",
    "Operators that act only on one operand"
   ]
  },
  {
   "cell_type": "code",
   "execution_count": 1,
   "metadata": {
    "slideshow": {
     "slide_type": "fragment"
    }
   },
   "outputs": [
    {
     "name": "stdout",
     "output_type": "stream",
     "text": [
      "-10\n"
     ]
    }
   ],
   "source": [
    "x = 10\n",
    "y = -x  # unary minus\n",
    "print(y)"
   ]
  },
  {
   "cell_type": "markdown",
   "metadata": {
    "slideshow": {
     "slide_type": "subslide"
    }
   },
   "source": [
    "## Binary operators\n",
    "Operators that act only on two operands"
   ]
  },
  {
   "cell_type": "markdown",
   "metadata": {
    "slideshow": {
     "slide_type": "skip"
    }
   },
   "source": [
    "***"
   ]
  },
  {
   "cell_type": "markdown",
   "metadata": {
    "cell_style": "center",
    "slideshow": {
     "slide_type": "slide"
    }
   },
   "source": [
    "## Arithmetic Operators"
   ]
  },
  {
   "cell_type": "markdown",
   "metadata": {
    "cell_style": "split",
    "slideshow": {
     "slide_type": "fragment"
    }
   },
   "source": [
    "| <font size=5>Symbol</font> | <font size=5>Operator</font> |\n",
    "| --- | --- |\n",
    "| <font size=5>+</font> | <font size=5>Addition</font> |\n",
    "| <font size=5>-</font> | <font size=5>Subtraction</font> |\n",
    "| <font size=5>*</font> | <font size=5>Multiplication</font> |\n",
    "| <font size=5>/</font> | <font size=5>Division</font> |\n",
    "| <font size=5>//</font> | <font size=5>Floor Division</font> |\n",
    "| <font size=5>%</font> | <font size=5>Modulus</font> |\n",
    "| <font size=5>**</font> | <font size=5>Exponent</font> |"
   ]
  },
  {
   "cell_type": "markdown",
   "metadata": {
    "slideshow": {
     "slide_type": "skip"
    }
   },
   "source": [
    "***"
   ]
  },
  {
   "cell_type": "markdown",
   "metadata": {
    "slideshow": {
     "slide_type": "slide"
    }
   },
   "source": [
    "## Bitwise Operators"
   ]
  },
  {
   "cell_type": "markdown",
   "metadata": {
    "cell_style": "split",
    "slideshow": {
     "slide_type": "fragment"
    }
   },
   "source": [
    "<table>\n",
    "    <tr>\n",
    "        <th><font size=5>Symbol</font></th>\n",
    "        <th><font size=5>Operator</font></th>\n",
    "    </tr>\n",
    "    <tr>\n",
    "        <td><font size=5>&</font></td>\n",
    "        <td><font size=5>AND</font></td>\n",
    "    </tr>\n",
    "    <tr>\n",
    "        <td><font size=5>|</font></td>\n",
    "        <td><font size=5>OR</font></td>\n",
    "    </tr>\n",
    "    <tr>\n",
    "        <td><font size=5>^</font></td>\n",
    "        <td><font size=5>XOR</font></td>\n",
    "    </tr>\n",
    "    <tr>\n",
    "        <td><font size=5><<</font></td>\n",
    "        <td><font size=5>Left Shift</font></td>\n",
    "    </tr>\n",
    "    <tr>\n",
    "        <td><font size=5>>></font></td>\n",
    "        <td><font size=5>Right Shift</font></td>\n",
    "    </tr>\n",
    "    <tr>\n",
    "        <td><font size=5>~</font></td>\n",
    "        <td><font size=5>Complement</font></td>\n",
    "    </tr>\n",
    "</table>"
   ]
  },
  {
   "cell_type": "markdown",
   "metadata": {
    "slideshow": {
     "slide_type": "skip"
    }
   },
   "source": [
    "***"
   ]
  },
  {
   "cell_type": "markdown",
   "metadata": {
    "slideshow": {
     "slide_type": "slide"
    }
   },
   "source": [
    "## Relational operators"
   ]
  },
  {
   "cell_type": "markdown",
   "metadata": {
    "cell_style": "split",
    "slideshow": {
     "slide_type": "fragment"
    }
   },
   "source": [
    "| <font size=5>Symbol</font> | <font size=5>Operator</font> |\n",
    "| --- | --- |\n",
    "| <font size=5>></font> | <font size=5>Greater than</font> |\n",
    "| <font size=5><</font> | <font size=5>Less than</font> |\n",
    "| <font size=5>>=</font> | <font size=5>Greater than equal to</font> |\n",
    "| <font size=5><=</font> | <font size=5>Less than equal to</font> |\n",
    "| <font size=5>==</font> | <font size=5>Equal to</font> |\n",
    "| <font size=5>!=</font> | <font size=5>Not equal to</font> |"
   ]
  },
  {
   "cell_type": "markdown",
   "metadata": {
    "slideshow": {
     "slide_type": "skip"
    }
   },
   "source": [
    "***"
   ]
  },
  {
   "cell_type": "markdown",
   "metadata": {
    "slideshow": {
     "slide_type": "slide"
    }
   },
   "source": [
    "## Assignment operators"
   ]
  },
  {
   "cell_type": "markdown",
   "metadata": {
    "cell_style": "split",
    "slideshow": {
     "slide_type": "fragment"
    }
   },
   "source": [
    "| <font size=5>Symbol</font> | <font size=5>Operator</font> |\n",
    "| --- | --- |\n",
    "| <font size=5>=</font> | <font size=5>Assignment</font> |\n",
    "| <font size=5>+=</font> | <font size=5>Shorthand assignment</font> |\n",
    "| <font size=5>-=</font> | <font size=5>Shorthand assignment</font> |\n",
    "| <font size=5>*=</font> | <font size=5>Shorthand assignment</font> |\n",
    "| <font size=5>/=</font> | <font size=5>Shorthand assignment</font> |\n",
    "etc."
   ]
  },
  {
   "cell_type": "markdown",
   "metadata": {
    "slideshow": {
     "slide_type": "skip"
    }
   },
   "source": [
    "***"
   ]
  },
  {
   "cell_type": "markdown",
   "metadata": {
    "slideshow": {
     "slide_type": "slide"
    }
   },
   "source": [
    "## Logical operators"
   ]
  },
  {
   "cell_type": "markdown",
   "metadata": {
    "cell_style": "split",
    "slideshow": {
     "slide_type": "fragment"
    }
   },
   "source": [
    "| <font size=5>Symbol</font> | <font size=5>Operator</font> |\n",
    "| --- | --- |\n",
    "| <font size=5>and</font> | <font size=5>AND</font> |\n",
    "| <font size=5>or</font> | <font size=5>OR</font> |\n",
    "| <font size=5>not</font> | <font size=5>NOT</font> |"
   ]
  },
  {
   "cell_type": "markdown",
   "metadata": {
    "slideshow": {
     "slide_type": "skip"
    }
   },
   "source": [
    "***"
   ]
  },
  {
   "cell_type": "markdown",
   "metadata": {
    "slideshow": {
     "slide_type": "slide"
    }
   },
   "source": [
    "## Membership operator\n",
    "\n",
    "`in`"
   ]
  },
  {
   "cell_type": "markdown",
   "metadata": {
    "slideshow": {
     "slide_type": "skip"
    }
   },
   "source": [
    "***"
   ]
  },
  {
   "cell_type": "markdown",
   "metadata": {
    "slideshow": {
     "slide_type": "slide"
    }
   },
   "source": [
    "## Identity operator\n",
    "\n",
    "`is`"
   ]
  },
  {
   "cell_type": "markdown",
   "metadata": {
    "slideshow": {
     "slide_type": "skip"
    }
   },
   "source": [
    "***"
   ]
  },
  {
   "cell_type": "markdown",
   "metadata": {
    "slideshow": {
     "slide_type": "slide"
    }
   },
   "source": [
    "![questions.jpg](img/questions.jpg)"
   ]
  }
 ],
 "metadata": {
  "kernelspec": {
   "display_name": "Python 3",
   "language": "python",
   "name": "python3"
  },
  "language_info": {
   "codemirror_mode": {
    "name": "ipython",
    "version": 3
   },
   "file_extension": ".py",
   "mimetype": "text/x-python",
   "name": "python",
   "nbconvert_exporter": "python",
   "pygments_lexer": "ipython3",
   "version": "3.7.0"
  },
  "livereveal": {
   "scroll": true,
   "theme": "sky"
  }
 },
 "nbformat": 4,
 "nbformat_minor": 2
}
