{
 "cells": [
  {
   "cell_type": "markdown",
   "metadata": {
    "slideshow": {
     "slide_type": "slide"
    }
   },
   "source": [
    "# If-else in python"
   ]
  },
  {
   "cell_type": "markdown",
   "metadata": {
    "slideshow": {
     "slide_type": "slide"
    }
   },
   "source": [
    "## Syntax:\n",
    "\n",
    "> ### if-else\n",
    "```python\n",
    "if condition:\n",
    "    pass\n",
    "else:\n",
    "    pass\n",
    "```\n",
    "\n",
    "> ### if-elseif chain\n",
    "```python\n",
    "if condition1:\n",
    "    pass\n",
    "elif condition2:\n",
    "    pass\n",
    "elif condition3:\n",
    "    pass\n",
    "else:\n",
    "    pass\n",
    "```"
   ]
  },
  {
   "cell_type": "markdown",
   "metadata": {
    "slideshow": {
     "slide_type": "slide"
    }
   },
   "source": [
    "## Examples"
   ]
  },
  {
   "cell_type": "code",
   "execution_count": 10,
   "metadata": {
    "slideshow": {
     "slide_type": "subslide"
    }
   },
   "outputs": [],
   "source": [
    "m, n = 20, 20"
   ]
  },
  {
   "cell_type": "code",
   "execution_count": 8,
   "metadata": {
    "slideshow": {
     "slide_type": "fragment"
    }
   },
   "outputs": [
    {
     "name": "stdout",
     "output_type": "stream",
     "text": [
      "123 is greater than 100\n"
     ]
    }
   ],
   "source": [
    "if n > 100:\n",
    "    print(n, 'is greater than 100')\n",
    "else:\n",
    "    print(n, 'is less than 100')"
   ]
  },
  {
   "cell_type": "code",
   "execution_count": 11,
   "metadata": {
    "slideshow": {
     "slide_type": "fragment"
    }
   },
   "outputs": [
    {
     "name": "stdout",
     "output_type": "stream",
     "text": [
      "both are equal\n"
     ]
    }
   ],
   "source": [
    "if m > n:\n",
    "    print('m is greater')\n",
    "elif m < n:\n",
    "    print('n is greater')\n",
    "else:\n",
    "    print('both are equal')"
   ]
  },
  {
   "cell_type": "markdown",
   "metadata": {
    "slideshow": {
     "slide_type": "slide"
    }
   },
   "source": [
    "## Truthy and Falsy values in Python"
   ]
  },
  {
   "cell_type": "markdown",
   "metadata": {
    "slideshow": {
     "slide_type": "fragment"
    }
   },
   "source": [
    "Anything non-zero or any non-empty sequence is treated as True in Python and an empty sequence or None or 0 is treated as False, apart from the boolean literals True and False supported by the language."
   ]
  },
  {
   "cell_type": "code",
   "execution_count": 16,
   "metadata": {
    "slideshow": {
     "slide_type": "subslide"
    }
   },
   "outputs": [
    {
     "name": "stdout",
     "output_type": "stream",
     "text": [
      "dip\n"
     ]
    }
   ],
   "source": [
    "s = 'dip'\n",
    "if s:\n",
    "    print(s)\n",
    "else:\n",
    "    print('empty')"
   ]
  },
  {
   "cell_type": "code",
   "execution_count": 15,
   "metadata": {
    "slideshow": {
     "slide_type": "fragment"
    }
   },
   "outputs": [
    {
     "name": "stdout",
     "output_type": "stream",
     "text": [
      "empty\n"
     ]
    }
   ],
   "source": [
    "s = ''\n",
    "if s:\n",
    "    print(s)\n",
    "else:\n",
    "    print('empty')"
   ]
  },
  {
   "cell_type": "code",
   "execution_count": 16,
   "metadata": {
    "slideshow": {
     "slide_type": "subslide"
    }
   },
   "outputs": [
    {
     "name": "stdout",
     "output_type": "stream",
     "text": [
      "12\n"
     ]
    }
   ],
   "source": [
    "n = 12\n",
    "if n:\n",
    "    print(n)\n",
    "else:\n",
    "    print('zero')"
   ]
  },
  {
   "cell_type": "code",
   "execution_count": 17,
   "metadata": {
    "slideshow": {
     "slide_type": "fragment"
    }
   },
   "outputs": [
    {
     "name": "stdout",
     "output_type": "stream",
     "text": [
      "zero\n"
     ]
    }
   ],
   "source": [
    "n = 0\n",
    "if n:\n",
    "    print(n)\n",
    "else:\n",
    "    print('zero')"
   ]
  },
  {
   "cell_type": "markdown",
   "metadata": {
    "slideshow": {
     "slide_type": "skip"
    }
   },
   "source": [
    "***"
   ]
  },
  {
   "cell_type": "markdown",
   "metadata": {
    "slideshow": {
     "slide_type": "slide"
    }
   },
   "source": [
    "## Ternary in python?\n",
    "\n",
    "### Python does not have a ternary operator"
   ]
  },
  {
   "cell_type": "markdown",
   "metadata": {
    "slideshow": {
     "slide_type": "subslide"
    }
   },
   "source": [
    "> #### In case you don't remember what a ternary operator is...\n",
    "```java\n",
    "variable = <condition> ? <expression-when-true> : <expression-when-false>;\n",
    "```\n",
    "\n",
    "> ##### Example\n",
    "```java\n",
    "int x = 5, y = 7, max;\n",
    "if (x > y) {\n",
    "    max = x;\n",
    "} else {\n",
    "    max = y;\n",
    "}\n",
    "```\n",
    "\n",
    "> ##### Equivalent code using ternary operator\n",
    "```java\n",
    "int x = 5, y = 7;\n",
    "int max = x > y ? x : y;\n",
    "```"
   ]
  },
  {
   "cell_type": "markdown",
   "metadata": {
    "slideshow": {
     "slide_type": "subslide"
    }
   },
   "source": [
    "## Instead of a ternary operator, Python has a single line if-else syntax"
   ]
  },
  {
   "cell_type": "code",
   "execution_count": 8,
   "metadata": {
    "slideshow": {
     "slide_type": "fragment"
    }
   },
   "outputs": [
    {
     "name": "stdout",
     "output_type": "stream",
     "text": [
      "5\n"
     ]
    }
   ],
   "source": [
    "x, y = 3, 5\n",
    "m = x if x > y else y\n",
    "print(m)"
   ]
  },
  {
   "cell_type": "markdown",
   "metadata": {
    "slideshow": {
     "slide_type": "skip"
    }
   },
   "source": [
    "***"
   ]
  },
  {
   "cell_type": "markdown",
   "metadata": {
    "slideshow": {
     "slide_type": "slide"
    }
   },
   "source": [
    "## Nested ternary equivalent in Python"
   ]
  },
  {
   "cell_type": "markdown",
   "metadata": {
    "slideshow": {
     "slide_type": "subslide"
    }
   },
   "source": [
    "> #### Maximum between 3 numbers (in C or C++ or Java)\n",
    "```java\n",
    "int a = 10, b = 7, c = 13, max;\n",
    "if (a > b)\n",
    "    if (a > c)\n",
    "        max = a;\n",
    "    else\n",
    "        max = c;\n",
    "else\n",
    "    if (b > c)\n",
    "        max = b;\n",
    "    else\n",
    "        max = c;\n",
    "```\n",
    "\n",
    "> #### Using ternary operator\n",
    "```java\n",
    "int a = 10, b = 7, c = 13, max;\n",
    "max = (a > b) ? ((a > c) ? a : c) : ((b > c) ? b : c);\n",
    "```"
   ]
  },
  {
   "cell_type": "code",
   "execution_count": 13,
   "metadata": {
    "slideshow": {
     "slide_type": "subslide"
    }
   },
   "outputs": [
    {
     "name": "stdout",
     "output_type": "stream",
     "text": [
      "6\n"
     ]
    }
   ],
   "source": [
    "a, b, c = 5, 6, 3\n",
    "m = (a if a > c else c) if a > b else (b if b > c else c)\n",
    "print(m)"
   ]
  },
  {
   "cell_type": "markdown",
   "metadata": {
    "slideshow": {
     "slide_type": "fragment"
    }
   },
   "source": [
    "Nesting this syntax reduces code readability and is difficuly to write and should be avoided."
   ]
  },
  {
   "cell_type": "markdown",
   "metadata": {
    "slideshow": {
     "slide_type": "skip"
    }
   },
   "source": [
    "***"
   ]
  },
  {
   "cell_type": "markdown",
   "metadata": {
    "slideshow": {
     "slide_type": "slide"
    }
   },
   "source": [
    "![questions.jpg](img/questions.jpg)"
   ]
  }
 ],
 "metadata": {
  "kernelspec": {
   "display_name": "Python 3",
   "language": "python",
   "name": "python3"
  },
  "language_info": {
   "codemirror_mode": {
    "name": "ipython",
    "version": 3
   },
   "file_extension": ".py",
   "mimetype": "text/x-python",
   "name": "python",
   "nbconvert_exporter": "python",
   "pygments_lexer": "ipython3",
   "version": "3.7.0"
  },
  "livereveal": {
   "scroll": true,
   "theme": "sky"
  }
 },
 "nbformat": 4,
 "nbformat_minor": 2
}
