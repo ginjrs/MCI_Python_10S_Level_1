{
 "cells": [
  {
   "cell_type": "code",
   "execution_count": 46,
   "metadata": {},
   "outputs": [
    {
     "name": "stdout",
     "output_type": "stream",
     "text": [
      "So tien can de mua nha 4760.875\n"
     ]
    }
   ],
   "source": [
    "# 1. In ra số tiền cần tìm:\n",
    "d = float(10.33)\n",
    "r = float(5.2674)\n",
    "dongia= float(87.5)\n",
    "S=round(d*r,2)\n",
    "print('So tien can de mua nha',price)"
   ]
  },
  {
   "cell_type": "code",
   "execution_count": 47,
   "metadata": {},
   "outputs": [
    {
     "name": "stdout",
     "output_type": "stream",
     "text": [
      "Thời gian hoàn vốn 8 nam\n"
     ]
    }
   ],
   "source": [
    "# 2. Thời gian hoàn vốn:\n",
    "income = 45 # Nhập thu nhập hằng tháng cho dự án 1\n",
    "time =price / income\n",
    "time = int(time/12)\n",
    "print('Thời gian hoàn vốn' ,time,'nam')"
   ]
  },
  {
   "cell_type": "code",
   "execution_count": 48,
   "metadata": {},
   "outputs": [
    {
     "name": "stdout",
     "output_type": "stream",
     "text": [
      "Giá căn nhà dự án 2 4320\n"
     ]
    }
   ],
   "source": [
    "# 3. Giá căn nhà dự án 2:\n",
    "time2 = 12\n",
    "dongia2 = float(56.7)\n",
    "income2 = 30\n",
    "price2 = time2*income2*12\n",
    "print('Giá căn nhà dự án 2',price2)"
   ]
  },
  {
   "cell_type": "code",
   "execution_count": 54,
   "metadata": {},
   "outputs": [
    {
     "name": "stdout",
     "output_type": "stream",
     "text": [
      "Thu nhập hằng tháng từ căn nhà 1  1.54  lần thu nhận từ căn nhà 2\n"
     ]
    }
   ],
   "source": [
    "# 4. So sánh thu nhập 2 dự án:\n",
    "S = 50\n",
    "price1_new = S*dongia\n",
    "price2_new = S*dongia2\n",
    "rate= round(price1_new/price2_new,2)\n",
    "if rate > 1.5:                        \n",
    "    print(\"Thu nhập hằng tháng từ căn nhà 1 \", rate, \" lần thu nhận từ căn nhà 2\")"
   ]
  },
  {
   "cell_type": "code",
   "execution_count": 69,
   "metadata": {},
   "outputs": [],
   "source": [
    "# 5. Nhập tên loại nhà đất, giá cả vào dictionary tên dist9:\n",
    "dist9 = {\n",
    "    'Mặt tiền':'87.6',\n",
    "    'Hẻm':'56.7',\n",
    "    'Căn hộ':'31',\n",
    "    'Nền':'36.8'\n",
    "}"
   ]
  },
  {
   "cell_type": "code",
   "execution_count": 62,
   "metadata": {},
   "outputs": [
    {
     "name": "stdout",
     "output_type": "stream",
     "text": [
      "Giá đất nền 36.8\n"
     ]
    }
   ],
   "source": [
    "#6. Truy cập, in giá đất nền từ dist9, gọi tên item của đất nền đã đặt:\n",
    "print('Giá đất nền' ,dist9[\"Nền\"])"
   ]
  },
  {
   "cell_type": "code",
   "execution_count": 58,
   "metadata": {},
   "outputs": [],
   "source": [
    "# 7. Sửa giá nhà mặt tiền sau 7 năm"
   ]
  },
  {
   "cell_type": "code",
   "execution_count": 73,
   "metadata": {},
   "outputs": [
    {
     "name": "stdout",
     "output_type": "stream",
     "text": [
      "{'Mặt tiền': 93.0, 'Hẻm': '56.7', 'Căn hộ': '31', 'Nền': '36.8'}\n"
     ]
    }
   ],
   "source": [
    "dist9['Mặt tiền'] = float(dist9['Căn hộ'])*3\n",
    "print(dist9)"
   ]
  }
 ],
 "metadata": {
  "kernelspec": {
   "display_name": "Python 3",
   "language": "python",
   "name": "python3"
  },
  "language_info": {
   "codemirror_mode": {
    "name": "ipython",
    "version": 3
   },
   "file_extension": ".py",
   "mimetype": "text/x-python",
   "name": "python",
   "nbconvert_exporter": "python",
   "pygments_lexer": "ipython3",
   "version": "3.6.10"
  }
 },
 "nbformat": 4,
 "nbformat_minor": 4
}
